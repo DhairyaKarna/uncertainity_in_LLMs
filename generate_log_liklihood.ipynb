{
 "cells": [
  {
   "cell_type": "markdown",
   "metadata": {},
   "source": [
    "-   This code snippet calculates the negative log-likelihoods and embeddings for the most likely and second most likely generations in a given set of sequences. \n",
    "-   It uses a pre-trained model to compute these metrics, considering the prompt and target IDs, and stores the results for further analysis."
   ]
  },
  {
   "cell_type": "code",
   "execution_count": 2,
   "metadata": {},
   "outputs": [
    {
     "data": {
      "text/plain": [
       "<torch._C.Generator at 0x2602b4494d0>"
      ]
     },
     "execution_count": 2,
     "metadata": {},
     "output_type": "execute_result"
    }
   ],
   "source": [
    "import os\n",
    "import random\n",
    "import numpy as np\n",
    "import torch\n",
    "\n",
    "# Please make sure you are using CUDA enabled GPU for this project\n",
    "device = 'cuda'\n",
    "\n",
    "# Setting the seed value ensures that the results are reproducible across different runs\n",
    "seed_val = 10\n",
    "\n",
    "# Ensuring that the seed is set for Python's hashing, random operations, NumPy, and PyTorch\n",
    "os.environ['PYTHONHASHSEED'] = str(seed_val)\n",
    "random.seed(seed_val)\n",
    "np.random.seed(seed_val)\n",
    "torch.manual_seed(seed_val)"
   ]
  },
  {
   "cell_type": "code",
   "execution_count": 3,
   "metadata": {},
   "outputs": [],
   "source": [
    "# LLM Parameter Tuning\n",
    "params = {    \n",
    "    # Model related arguments\n",
    "    'evaluation_version': 'opt-125m',\n",
    "    'generation_version': 'opt-125m',\n",
    "    'experiment_id': 'run_1',\n",
    "}"
   ]
  },
  {
   "cell_type": "code",
   "execution_count": 5,
   "metadata": {},
   "outputs": [
    {
     "data": {
      "application/vnd.jupyter.widget-view+json": {
       "model_id": "67481dcfcad24ee3990013b41249159d",
       "version_major": 2,
       "version_minor": 0
      },
      "text/plain": [
       "Downloading (…)lve/main/config.json:   0%|          | 0.00/651 [00:00<?, ?B/s]"
      ]
     },
     "metadata": {},
     "output_type": "display_data"
    },
    {
     "name": "stderr",
     "output_type": "stream",
     "text": [
      "c:\\Users\\dhair\\AppData\\Local\\Programs\\Python\\Python311\\Lib\\site-packages\\huggingface_hub\\file_download.py:133: UserWarning: `huggingface_hub` cache-system uses symlinks by default to efficiently store duplicated files but your machine does not support them in C:\\content\\drive\\MyDrive\\NLP Proj\\hf_cache_dir. Caching files will still work but in a degraded version that might require more space on your disk. This warning can be disabled by setting the `HF_HUB_DISABLE_SYMLINKS_WARNING` environment variable. For more details, see https://huggingface.co/docs/huggingface_hub/how-to-cache#limitations.\n",
      "To support symlinks on Windows, you either need to activate Developer Mode or to run Python as an administrator. In order to see activate developer mode, see this article: https://docs.microsoft.com/en-us/windows/apps/get-started/enable-your-device-for-development\n",
      "  warnings.warn(message)\n"
     ]
    },
    {
     "data": {
      "application/vnd.jupyter.widget-view+json": {
       "model_id": "c6cb86afd4734cd2876818bedab9c2ba",
       "version_major": 2,
       "version_minor": 0
      },
      "text/plain": [
       "Downloading pytorch_model.bin:   0%|          | 0.00/251M [00:00<?, ?B/s]"
      ]
     },
     "metadata": {},
     "output_type": "display_data"
    },
    {
     "data": {
      "application/vnd.jupyter.widget-view+json": {
       "model_id": "4c7203544c81456bb609d7c87d13b622",
       "version_major": 2,
       "version_minor": 0
      },
      "text/plain": [
       "Downloading (…)neration_config.json:   0%|          | 0.00/137 [00:00<?, ?B/s]"
      ]
     },
     "metadata": {},
     "output_type": "display_data"
    },
    {
     "data": {
      "application/vnd.jupyter.widget-view+json": {
       "model_id": "93a7dda093d94b0d93fdc3aebdef1aad",
       "version_major": 2,
       "version_minor": 0
      },
      "text/plain": [
       "Downloading (…)okenizer_config.json:   0%|          | 0.00/685 [00:00<?, ?B/s]"
      ]
     },
     "metadata": {},
     "output_type": "display_data"
    },
    {
     "data": {
      "application/vnd.jupyter.widget-view+json": {
       "model_id": "593ea472292742b6907a334aae453d07",
       "version_major": 2,
       "version_minor": 0
      },
      "text/plain": [
       "Downloading (…)olve/main/vocab.json:   0%|          | 0.00/899k [00:00<?, ?B/s]"
      ]
     },
     "metadata": {},
     "output_type": "display_data"
    },
    {
     "data": {
      "application/vnd.jupyter.widget-view+json": {
       "model_id": "b80511ebe61e4b7d8ce6a844122a9af2",
       "version_major": 2,
       "version_minor": 0
      },
      "text/plain": [
       "Downloading (…)olve/main/merges.txt:   0%|          | 0.00/456k [00:00<?, ?B/s]"
      ]
     },
     "metadata": {},
     "output_type": "display_data"
    },
    {
     "data": {
      "application/vnd.jupyter.widget-view+json": {
       "model_id": "b3df6a35000d4f9ca94dd6af83916f75",
       "version_major": 2,
       "version_minor": 0
      },
      "text/plain": [
       "Downloading (…)cial_tokens_map.json:   0%|          | 0.00/441 [00:00<?, ?B/s]"
      ]
     },
     "metadata": {},
     "output_type": "display_data"
    }
   ],
   "source": [
    "from transformers import AutoModelForCausalLM, AutoTokenizer\n",
    "\n",
    "evaluation_model = params['evaluation_version']\n",
    "\n",
    "# Getting the model from params and loading it to the GPU\n",
    "# Since we will be using the same model for other notebooks, we will save it in the cache directory\n",
    "model = AutoModelForCausalLM.from_pretrained(f\"facebook/{evaluation_model}\", torch_dtype=torch.float16, cache_dir='./cache_dir').cuda()\n",
    "\n",
    "tokenizer = AutoTokenizer.from_pretrained(f\"facebook/{evaluation_model}\", use_fast=False, cache_dir='./cache_dir')"
   ]
  },
  {
   "cell_type": "code",
   "execution_count": 6,
   "metadata": {},
   "outputs": [
    {
     "name": "stderr",
     "output_type": "stream",
     "text": [
      "Failed to detect the name of this notebook, you can set it manually with the WANDB_NOTEBOOK_NAME environment variable to enable code saving.\n",
      "\u001b[34m\u001b[1mwandb\u001b[0m: Currently logged in as: \u001b[33m4data692\u001b[0m (\u001b[33mnlp53113\u001b[0m). Use \u001b[1m`wandb login --relogin`\u001b[0m to force relogin\n"
     ]
    },
    {
     "data": {
      "text/html": [
       "wandb version 0.15.8 is available!  To upgrade, please run:\n",
       " $ pip install wandb --upgrade"
      ],
      "text/plain": [
       "<IPython.core.display.HTML object>"
      ]
     },
     "metadata": {},
     "output_type": "display_data"
    },
    {
     "data": {
      "text/html": [
       "Tracking run with wandb version 0.15.7"
      ],
      "text/plain": [
       "<IPython.core.display.HTML object>"
      ]
     },
     "metadata": {},
     "output_type": "display_data"
    },
    {
     "data": {
      "text/html": [
       "Run data is saved locally in <code>c:\\Users\\dhair\\Desktop\\Data\\UChicago\\Morningstar\\NLPLearning\\Project\\wandb\\run-20230813_003538-run_1</code>"
      ],
      "text/plain": [
       "<IPython.core.display.HTML object>"
      ]
     },
     "metadata": {},
     "output_type": "display_data"
    },
    {
     "data": {
      "text/html": [
       "Resuming run <strong><a href='https://wandb.ai/nlp53113/nlg_uncertainty/runs/run_1' target=\"_blank\">run_1</a></strong> to <a href='https://wandb.ai/nlp53113/nlg_uncertainty' target=\"_blank\">Weights & Biases</a> (<a href='https://wandb.me/run' target=\"_blank\">docs</a>)<br/>"
      ],
      "text/plain": [
       "<IPython.core.display.HTML object>"
      ]
     },
     "metadata": {},
     "output_type": "display_data"
    },
    {
     "data": {
      "text/html": [
       " View project at <a href='https://wandb.ai/nlp53113/nlg_uncertainty' target=\"_blank\">https://wandb.ai/nlp53113/nlg_uncertainty</a>"
      ],
      "text/plain": [
       "<IPython.core.display.HTML object>"
      ]
     },
     "metadata": {},
     "output_type": "display_data"
    },
    {
     "data": {
      "text/html": [
       " View run at <a href='https://wandb.ai/nlp53113/nlg_uncertainty/runs/run_1' target=\"_blank\">https://wandb.ai/nlp53113/nlg_uncertainty/runs/run_1</a>"
      ],
      "text/plain": [
       "<IPython.core.display.HTML object>"
      ]
     },
     "metadata": {},
     "output_type": "display_data"
    }
   ],
   "source": [
    "import wandb\n",
    "\n",
    "\n",
    "# We are using wandb to track our experiments\n",
    "wandb.init(project='nlg_uncertainty', id=params['experiment_id'], config=params, resume='allow')\n",
    "\n",
    "run_version = wandb.run.name"
   ]
  },
  {
   "cell_type": "code",
   "execution_count": 7,
   "metadata": {},
   "outputs": [],
   "source": [
    "import pickle\n",
    "\n",
    "generation_model = params['generation_version']\n",
    "\n",
    "# Please generate the responses using the generation notebook first\n",
    "# Please run the cleaner notebook before running this notebook\n",
    "# Load the responses for the given run and model version\n",
    "with open(f'./sequences/{run_version}/{generation_model}_cleaned_generations.pkl', 'rb') as infile:\n",
    "    responses = pickle.load(infile)\n",
    "\n",
    "# Load the semantic similarities for the given run and model version\n",
    "with open(f'./ss/{run_version}/{generation_model}_generations_similarities.pkl', 'rb') as infile:\n",
    "    similarities_dict = pickle.load(infile)"
   ]
  },
  {
   "cell_type": "code",
   "execution_count": 39,
   "metadata": {},
   "outputs": [
    {
     "name": "stdout",
     "output_type": "stream",
     "text": [
      "{'prompt': tensor([    2, 10554, 25596,    16,    41,   470,  1612,   433,  3468,  2164,\n",
      "           30,  3421,   603,     4,  3139,  1403,    12,    90, 22764,  4320,\n",
      "           34,    81,   155,   153,  8291,     8,    16,  1166,    30,   883,\n",
      "          153,    82,   349,   186,     6,   217,    81,   504,   153,   604,\n",
      "            4,    85,    21,     5,    78,  4320,    19, 17268,    81,    65,\n",
      "          153,     7,   339,     5,   496, 10202,  3683,    13,  1292, 19092,\n",
      "         2330,     4,  3139,  6966, 18605,   696,     6,    61,    34,    57,\n",
      "         1027,   187, 17616,     6,    16,   122,    41,  1013, 10467,   515,\n",
      "           14, 17382,    63,   308,  2384,   924,     6,  3424,     8, 32895,\n",
      "            4,  1437, 50118, 50118,   970,    58,    80, 15829,  1440,    22,\n",
      "        10554, 25596,   113,   137,     5,   595,  4320,   880,    15,   830,\n",
      "          545,     6, 24712,     4,    96, 31025,     6, 10125,  9555,  2543,\n",
      "          523,  1412,    22, 10554, 25596,   113,    19,    10,  1002,   210,\n",
      "           13,     5,  1612,   397,     4,    91,  1027,     5,  4320,    31,\n",
      "        31025,     7, 30775,    15,    10,  3708,  1453,     4,    20,  4320,\n",
      "           21,    10,   301,  4320,  1836,     8,  2061,    15,  3524,     6,\n",
      "         5919,     6,     8, 17270,    19,  7201,    15,     5,   538,  1612,\n",
      "            4,    91,   172,  1088,     5,   766,     7, 11889, 43487,     6,\n",
      "           61,   703,    22, 10554, 25596,   113,    11, 25345,     8,    42,\n",
      "         1732,  9200,   231,   743,   137,  3172,     4, 11889,    18,  1732,\n",
      "         2061,    15,   538,  1612,    36, 11070,  3512,     6,  2613,     6,\n",
      "         9114,    43,     8, 12393,    15,  4320, 34409,   136,    22, 19451,\n",
      "          113,     8,    97,  3708,  1612, 15829,     4,  1590,     5, 16863,\n",
      "           29,   209, 15829,    58,  3708,     8,    51,   222,    45,  1719,\n",
      "            5,   595,  1061,   142,     9,     5,   931, 15579,     4,   345,\n",
      "           21,   117,   739,    12, 11070,     6,   937,     6,  4114,  1612,\n",
      "         4320,    19,    10,   632,   511,    15,  3031,  2171,  1061,     4,\n",
      "           85,    21,   172,    14,    22, 14699,   113, 35459,  4858,  5078,\n",
      "         1755,   880,  2811,   549,    39,   138,   197,  2120,     7,  3300,\n",
      "           14,  4044,     4,   497,     5,    86,     6,   171,  2047,  1612,\n",
      "           21, 11352,     5,  1503,     9,  1473,  8128,     8,   222,    45,\n",
      "          206,  1612,   340,   115,  3300,    10,  4114,  4320,     6,   941,\n",
      "          148,     5,  2608,     4,    83,   346,     9,  9273,     7,  5078,\n",
      "         1755,     6,   217,    22, 12116,   113,  4320,    18, 16879,  6319,\n",
      "         4621,     6,  1381,     7,  3549,     5,  1114,     6,    53,  5078,\n",
      "         1755,     6,    54,    21,    45,    10,  1612,  2378,     6,  1276,\n",
      "            5,    86,    21,   235,     4,  1209,    35,   653,    18,     5,\n",
      "         5674,     9,  1056,   116,    83,    35,  1847, 25596,     4,  1209,\n",
      "           35,  1336,   171,    82,  1166,    49,  4320,   116,    83,    35,\n",
      "          883,   153,     4,  1209,    35,  1336,   171, 11222,     7,    24,\n",
      "          116,    83,    35,    81,   155,   153,     4,  1209,    35,  1336,\n",
      "          171,     9,     5,  5360,     9,  2943,   116,    83,    35,    81,\n",
      "          504,   153,     4,  1209,    35,  1773,    77,    34,     5,  6966,\n",
      "        18605,   696,    57,  1027,   116,    83,    35, 17616,     4,  1209,\n",
      "           35,  1336,   171,     9,     5,  1847, 36599, 27748,    58,    89,\n",
      "         3225,   116,    83,    35,    80,     4,  1209,    35,   520,   222,\n",
      "           14,   464,   116,    83,    35,   830,   545,     6, 24712,     4,\n",
      "         1209,    35,  3394,    21,    49,  1002,   333,   116,    83,    35]), 'generations': tensor([[    2, 10554, 25596,  ...,     1,     1,     1],\n",
      "        [    2, 10554, 25596,  ...,     1,     1,     1],\n",
      "        [    2, 10554, 25596,  ...,     1,     1,     1],\n",
      "        [    2, 10554, 25596,  ...,     1,     1,     1],\n",
      "        [    2, 10554, 25596,  ...,     1,     1,     1]]), 'id': ['34fnn24dcm9txoko3yb4ydvtefry5p_7'], 'question': 'Who was their target group?', 'generated_texts': [' men.', ' the sportsman.', ' the sportsman.', ' men.', ' the sportsman.'], 'most_likely_generation_ids': tensor([    2, 10554, 25596,    16,    41,   470,  1612,   433,  3468,  2164,\n",
      "           30,  3421,   603,     4,  3139,  1403,    12,    90, 22764,  4320,\n",
      "           34,    81,   155,   153,  8291,     8,    16,  1166,    30,   883,\n",
      "          153,    82,   349,   186,     6,   217,    81,   504,   153,   604,\n",
      "            4,    85,    21,     5,    78,  4320,    19, 17268,    81,    65,\n",
      "          153,     7,   339,     5,   496, 10202,  3683,    13,  1292, 19092,\n",
      "         2330,     4,  3139,  6966, 18605,   696,     6,    61,    34,    57,\n",
      "         1027,   187, 17616,     6,    16,   122,    41,  1013, 10467,   515,\n",
      "           14, 17382,    63,   308,  2384,   924,     6,  3424,     8, 32895,\n",
      "            4,  1437, 50118, 50118,   970,    58,    80, 15829,  1440,    22,\n",
      "        10554, 25596,   113,   137,     5,   595,  4320,   880,    15,   830,\n",
      "          545,     6, 24712,     4,    96, 31025,     6, 10125,  9555,  2543,\n",
      "          523,  1412,    22, 10554, 25596,   113,    19,    10,  1002,   210,\n",
      "           13,     5,  1612,   397,     4,    91,  1027,     5,  4320,    31,\n",
      "        31025,     7, 30775,    15,    10,  3708,  1453,     4,    20,  4320,\n",
      "           21,    10,   301,  4320,  1836,     8,  2061,    15,  3524,     6,\n",
      "         5919,     6,     8, 17270,    19,  7201,    15,     5,   538,  1612,\n",
      "            4,    91,   172,  1088,     5,   766,     7, 11889, 43487,     6,\n",
      "           61,   703,    22, 10554, 25596,   113,    11, 25345,     8,    42,\n",
      "         1732,  9200,   231,   743,   137,  3172,     4, 11889,    18,  1732,\n",
      "         2061,    15,   538,  1612,    36, 11070,  3512,     6,  2613,     6,\n",
      "         9114,    43,     8, 12393,    15,  4320, 34409,   136,    22, 19451,\n",
      "          113,     8,    97,  3708,  1612, 15829,     4,  1590,     5, 16863,\n",
      "           29,   209, 15829,    58,  3708,     8,    51,   222,    45,  1719,\n",
      "            5,   595,  1061,   142,     9,     5,   931, 15579,     4,   345,\n",
      "           21,   117,   739,    12, 11070,     6,   937,     6,  4114,  1612,\n",
      "         4320,    19,    10,   632,   511,    15,  3031,  2171,  1061,     4,\n",
      "           85,    21,   172,    14,    22, 14699,   113, 35459,  4858,  5078,\n",
      "         1755,   880,  2811,   549,    39,   138,   197,  2120,     7,  3300,\n",
      "           14,  4044,     4,   497,     5,    86,     6,   171,  2047,  1612,\n",
      "           21, 11352,     5,  1503,     9,  1473,  8128,     8,   222,    45,\n",
      "          206,  1612,   340,   115,  3300,    10,  4114,  4320,     6,   941,\n",
      "          148,     5,  2608,     4,    83,   346,     9,  9273,     7,  5078,\n",
      "         1755,     6,   217,    22, 12116,   113,  4320,    18, 16879,  6319,\n",
      "         4621,     6,  1381,     7,  3549,     5,  1114,     6,    53,  5078,\n",
      "         1755,     6,    54,    21,    45,    10,  1612,  2378,     6,  1276,\n",
      "            5,    86,    21,   235,     4,  1209,    35,   653,    18,     5,\n",
      "         5674,     9,  1056,   116,    83,    35,  1847, 25596,     4,  1209,\n",
      "           35,  1336,   171,    82,  1166,    49,  4320,   116,    83,    35,\n",
      "          883,   153,     4,  1209,    35,  1336,   171, 11222,     7,    24,\n",
      "          116,    83,    35,    81,   155,   153,     4,  1209,    35,  1336,\n",
      "          171,     9,     5,  5360,     9,  2943,   116,    83,    35,    81,\n",
      "          504,   153,     4,  1209,    35,  1773,    77,    34,     5,  6966,\n",
      "        18605,   696,    57,  1027,   116,    83,    35, 17616,     4,  1209,\n",
      "           35,  1336,   171,     9,     5,  1847, 36599, 27748,    58,    89,\n",
      "         3225,   116,    83,    35,    80,     4,  1209,    35,   520,   222,\n",
      "           14,   464,   116,    83,    35,   830,   545,     6, 24712,     4,\n",
      "         1209,    35,  3394,    21,    49,  1002,   333,   116,    83,    35,\n",
      "          604,     4]), 'most_likely_generation': ' men.', 'second_most_likely_generation_ids': tensor([    2, 10554, 25596,    16,    41,   470,  1612,   433,  3468,  2164,\n",
      "           30,  3421,   603,     4,  3139,  1403,    12,    90, 22764,  4320,\n",
      "           34,    81,   155,   153,  8291,     8,    16,  1166,    30,   883,\n",
      "          153,    82,   349,   186,     6,   217,    81,   504,   153,   604,\n",
      "            4,    85,    21,     5,    78,  4320,    19, 17268,    81,    65,\n",
      "          153,     7,   339,     5,   496, 10202,  3683,    13,  1292, 19092,\n",
      "         2330,     4,  3139,  6966, 18605,   696,     6,    61,    34,    57,\n",
      "         1027,   187, 17616,     6,    16,   122,    41,  1013, 10467,   515,\n",
      "           14, 17382,    63,   308,  2384,   924,     6,  3424,     8, 32895,\n",
      "            4,  1437, 50118, 50118,   970,    58,    80, 15829,  1440,    22,\n",
      "        10554, 25596,   113,   137,     5,   595,  4320,   880,    15,   830,\n",
      "          545,     6, 24712,     4,    96, 31025,     6, 10125,  9555,  2543,\n",
      "          523,  1412,    22, 10554, 25596,   113,    19,    10,  1002,   210,\n",
      "           13,     5,  1612,   397,     4,    91,  1027,     5,  4320,    31,\n",
      "        31025,     7, 30775,    15,    10,  3708,  1453,     4,    20,  4320,\n",
      "           21,    10,   301,  4320,  1836,     8,  2061,    15,  3524,     6,\n",
      "         5919,     6,     8, 17270,    19,  7201,    15,     5,   538,  1612,\n",
      "            4,    91,   172,  1088,     5,   766,     7, 11889, 43487,     6,\n",
      "           61,   703,    22, 10554, 25596,   113,    11, 25345,     8,    42,\n",
      "         1732,  9200,   231,   743,   137,  3172,     4, 11889,    18,  1732,\n",
      "         2061,    15,   538,  1612,    36, 11070,  3512,     6,  2613,     6,\n",
      "         9114,    43,     8, 12393,    15,  4320, 34409,   136,    22, 19451,\n",
      "          113,     8,    97,  3708,  1612, 15829,     4,  1590,     5, 16863,\n",
      "           29,   209, 15829,    58,  3708,     8,    51,   222,    45,  1719,\n",
      "            5,   595,  1061,   142,     9,     5,   931, 15579,     4,   345,\n",
      "           21,   117,   739,    12, 11070,     6,   937,     6,  4114,  1612,\n",
      "         4320,    19,    10,   632,   511,    15,  3031,  2171,  1061,     4,\n",
      "           85,    21,   172,    14,    22, 14699,   113, 35459,  4858,  5078,\n",
      "         1755,   880,  2811,   549,    39,   138,   197,  2120,     7,  3300,\n",
      "           14,  4044,     4,   497,     5,    86,     6,   171,  2047,  1612,\n",
      "           21, 11352,     5,  1503,     9,  1473,  8128,     8,   222,    45,\n",
      "          206,  1612,   340,   115,  3300,    10,  4114,  4320,     6,   941,\n",
      "          148,     5,  2608,     4,    83,   346,     9,  9273,     7,  5078,\n",
      "         1755,     6,   217,    22, 12116,   113,  4320,    18, 16879,  6319,\n",
      "         4621,     6,  1381,     7,  3549,     5,  1114,     6,    53,  5078,\n",
      "         1755,     6,    54,    21,    45,    10,  1612,  2378,     6,  1276,\n",
      "            5,    86,    21,   235,     4,  1209,    35,   653,    18,     5,\n",
      "         5674,     9,  1056,   116,    83,    35,  1847, 25596,     4,  1209,\n",
      "           35,  1336,   171,    82,  1166,    49,  4320,   116,    83,    35,\n",
      "          883,   153,     4,  1209,    35,  1336,   171, 11222,     7,    24,\n",
      "          116,    83,    35,    81,   155,   153,     4,  1209,    35,  1336,\n",
      "          171,     9,     5,  5360,     9,  2943,   116,    83,    35,    81,\n",
      "          504,   153,     4,  1209,    35,  1773,    77,    34,     5,  6966,\n",
      "        18605,   696,    57,  1027,   116,    83,    35, 17616,     4,  1209,\n",
      "           35,  1336,   171,     9,     5,  1847, 36599, 27748,    58,    89,\n",
      "         3225,   116,    83,    35,    80,     4,  1209,    35,   520,   222,\n",
      "           14,   464,   116,    83,    35,   830,   545,     6, 24712,     4,\n",
      "         1209,    35,  3394,    21,    49,  1002,   333,   116,    83,    35,\n",
      "         4011,     4]), 'second_most_likely_generation': ' Men.', 'semantic_variability_reference_answers': tensor([False]), 'rouge1_reference_answers': tensor([0.3889], dtype=torch.float64), 'rouge1_to_target': 0.0, 'rouge2_reference_answers': tensor([0.1667], dtype=torch.float64), 'rouge2_to_target': 0.0, 'rougeL_reference_answers': tensor([0.3889], dtype=torch.float64), 'rougeL_to_target': 0.0, 'answer': ['the sportsman'], 'additional_answers': ['the sportsman.', 'Golf, tennis, and skiing fans', 'sportsman'], 'exact_match': 0.0}\n",
      "\n"
     ]
    }
   ],
   "source": [
    "# Checking sample response of the model\n",
    "for sample in responses:\n",
    "    print(sample)\n",
    "    print(\"\")\n",
    "    break"
   ]
  },
  {
   "cell_type": "code",
   "execution_count": 8,
   "metadata": {},
   "outputs": [],
   "source": [
    "def compute_neg_log_likelihoods(model, responses):\n",
    "    \"\"\"This function computes various negative log-likelihoods and other metrics for a given set of responses.\"\"\"\n",
    "\n",
    "    with torch.no_grad():\n",
    "        result = []\n",
    "        for sample in responses:\n",
    "            \n",
    "            result_dict = {}\n",
    "            prompt = sample['prompt']\n",
    "            generations = sample['cleaned_generations'].to(device) if 'cleaned_generations' in sample else sample['generations'].to(device)\n",
    "            id_ = sample['id']\n",
    "            \n",
    "            # Initialize tensors to store various metrics\n",
    "            average_neg_log_likelihoods, average_unconditioned_neg_log_likelihoods, neg_log_likelihoods, neg_unconditioned_log_likelihoods, pointwise_mutual_information = torch.zeros((generations.shape[0],)), torch.zeros((generations.shape[0],)), torch.zeros((generations.shape[0],)), torch.zeros((generations.shape[0],)), torch.zeros((generations.shape[0],))\n",
    "            sequence_embeddings = []\n",
    "\n",
    "            # Iterating through each generation and compute metrics\n",
    "            for generation_index in range(generations.shape[0]):\n",
    "                \n",
    "                prompt = prompt[prompt != tokenizer.pad_token_id]\n",
    "                generation = generations[generation_index][generations[generation_index] != tokenizer.pad_token_id]\n",
    "\n",
    "                # This computation of the negative log likelihoods follows this tutorial: https://huggingface.co/docs/transformers/perplexity\n",
    "                # Compute the negative log likelihoods following the Hugging Face tutorial\n",
    "                target_ids = generation.clone()\n",
    "                target_ids[:len(prompt)] = -100\n",
    "                model_output = model(torch.reshape(generation, (1, -1)), labels=target_ids, output_hidden_states=True)\n",
    "                generation_only = generation.clone()[(len(prompt) - 1):]\n",
    "                unconditioned_model_output = model(torch.reshape(generation_only, (1, -1)), labels=generation_only, output_hidden_states=True)\n",
    "                hidden_states = model_output['hidden_states']\n",
    "                average_neg_log_likelihood = model_output['loss']\n",
    "\n",
    "                # Compute various likelihoods and information metrics\n",
    "                average_unconditioned_neg_log_likelihood = unconditioned_model_output['loss']\n",
    "                average_neg_log_likelihoods[generation_index] = average_neg_log_likelihood\n",
    "                average_unconditioned_neg_log_likelihoods[generation_index] = average_unconditioned_neg_log_likelihood\n",
    "                neg_log_likelihoods[generation_index] = average_neg_log_likelihood * (len(generation) - len(prompt))\n",
    "                neg_unconditioned_log_likelihoods[generation_index] = average_unconditioned_neg_log_likelihood * (\n",
    "                    len(generation) - len(prompt))\n",
    "                pointwise_mutual_information[generation_index] = -neg_log_likelihoods[\n",
    "                    generation_index] + neg_unconditioned_log_likelihoods[generation_index]\n",
    "\n",
    "                # Compute the average of the last layer's token embeddings\n",
    "                average_of_last_layer_token_embeddings = torch.mean(hidden_states[-1], dim=1)\n",
    "                sequence_embeddings.append(average_of_last_layer_token_embeddings)\n",
    "\n",
    "            # Compute metrics for the most likely generations\n",
    "            most_likely_generation = sample['most_likely_generation_ids'].to(device)\n",
    "            target_ids = most_likely_generation.clone()\n",
    "            target_ids[:len(prompt)] = -100\n",
    "            model_output = model(torch.reshape(most_likely_generation, (1, -1)), labels=target_ids, output_hidden_states=True)\n",
    "            hidden_states = model_output['hidden_states']\n",
    "            average_neg_log_likelihood_of_most_likely_gen = model_output['loss']\n",
    "            most_likely_generation_embedding = torch.mean(hidden_states[-1], dim=1)\n",
    "\n",
    "            # Compute metrics for the second most likely generation\n",
    "            second_most_likely_generation = sample['second_most_likely_generation_ids'].to(device)\n",
    "            target_ids = second_most_likely_generation.clone()\n",
    "            target_ids[:len(prompt)] = -100\n",
    "            model_output = model(torch.reshape(second_most_likely_generation, (1, -1)), labels=target_ids, output_hidden_states=True)\n",
    "            hidden_states = model_output['hidden_states']\n",
    "            average_neg_log_likelihood_of_second_most_likely_gen = model_output['loss']\n",
    "\n",
    "            neg_log_likelihood_of_most_likely_gen = average_neg_log_likelihood_of_most_likely_gen * (len(most_likely_generation) - len(prompt))\n",
    "\n",
    "            sequence_embeddings = torch.stack(sequence_embeddings)\n",
    "            \n",
    "            # Compile all the computed metrics into a dictionary\n",
    "            result_dict.update({\n",
    "                'prompt': prompt,\n",
    "                'generations': generations,\n",
    "                'average_neg_log_likelihoods': average_neg_log_likelihoods,\n",
    "                'neg_log_likelihoods': neg_log_likelihoods,\n",
    "                'sequence_embeddings': most_likely_generation_embedding,\n",
    "                'most_likely_sequence_embedding': most_likely_generation,\n",
    "                'average_unconditioned_neg_log_likelihoods': average_unconditioned_neg_log_likelihoods,\n",
    "                'neg_unconditioned_log_likelihoods': neg_unconditioned_log_likelihoods,\n",
    "                'pointwise_mutual_information': pointwise_mutual_information,\n",
    "                'average_neg_log_likelihood_of_most_likely_gen': average_neg_log_likelihood_of_most_likely_gen,\n",
    "                'average_neg_log_likelihood_of_second_most_likely_gen': average_neg_log_likelihood_of_second_most_likely_gen,\n",
    "                'neg_log_likelihood_of_most_likely_gen': neg_log_likelihood_of_most_likely_gen,\n",
    "                'semantic_set_ids': torch.tensor(similarities_dict[id_[0]]['semantic_set_ids'], device=device),\n",
    "                'id': id_\n",
    "            })\n",
    "            results.append(result_dict)\n",
    "\n",
    "        return result"
   ]
  },
  {
   "cell_type": "code",
   "execution_count": 15,
   "metadata": {},
   "outputs": [
    {
     "data": {
      "text/plain": [
       "(4694474752, 6441926656)"
      ]
     },
     "execution_count": 15,
     "metadata": {},
     "output_type": "execute_result"
    }
   ],
   "source": [
    "# Please use the models below you have some free memory in your GPU\n",
    "# If you don't have enough memory, then it can lead to a crash (will require restart of the kernel/system)\n",
    "torch.cuda.mem_get_info()"
   ]
  },
  {
   "cell_type": "code",
   "execution_count": 14,
   "metadata": {},
   "outputs": [],
   "source": [
    "# Collect garbage to free up CUDA memory\n",
    "import gc\n",
    "gc.collect()\n",
    "\n",
    "torch.cuda.empty_cache()"
   ]
  },
  {
   "cell_type": "code",
   "execution_count": 11,
   "metadata": {},
   "outputs": [],
   "source": [
    "likelihoods = get_neg_loglikelihoods(model, sequences)"
   ]
  },
  {
   "cell_type": "code",
   "execution_count": 45,
   "metadata": {},
   "outputs": [],
   "source": [
    "import pathlib\n",
    "\n",
    "pathlib.Path(f'./log/' + run_name).mkdir(parents=True, exist_ok=True)"
   ]
  },
  {
   "cell_type": "code",
   "execution_count": 12,
   "metadata": {},
   "outputs": [],
   "source": [
    "with open(f'./log/{run_version}/{generation_version}_generations_{args.evaluation_version}_likelihoods.pkl','wb') as outfile:\n",
    "    pickle.dump(likelihoods, outfile)"
   ]
  }
 ],
 "metadata": {
  "kernelspec": {
   "display_name": "Python 3",
   "language": "python",
   "name": "python3"
  },
  "language_info": {
   "codemirror_mode": {
    "name": "ipython",
    "version": 3
   },
   "file_extension": ".py",
   "mimetype": "text/x-python",
   "name": "python",
   "nbconvert_exporter": "python",
   "pygments_lexer": "ipython3",
   "version": "3.11.1"
  },
  "orig_nbformat": 4
 },
 "nbformat": 4,
 "nbformat_minor": 2
}
