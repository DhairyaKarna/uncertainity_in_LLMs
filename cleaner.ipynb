{
 "cells": [
  {
   "cell_type": "code",
   "execution_count": 3,
   "metadata": {},
   "outputs": [
    {
     "data": {
      "text/plain": [
       "<torch._C.Generator at 0x1f2dbf654d0>"
      ]
     },
     "execution_count": 3,
     "metadata": {},
     "output_type": "execute_result"
    }
   ],
   "source": [
    "import os\n",
    "import random\n",
    "import numpy as np\n",
    "import torch\n",
    "\n",
    "# Please make sure you are using CUDA enabled GPU for this project\n",
    "device = 'cuda'\n",
    "\n",
    "# Setting the seed value ensures that the results are reproducible across different runs\n",
    "seed_val = 10\n",
    "\n",
    "# Ensuring that the seed is set for Python's hashing, random operations, NumPy, and PyTorch\n",
    "os.environ['PYTHONHASHSEED'] = str(seed_val)\n",
    "random.seed(seed_val)\n",
    "np.random.seed(seed_val)\n",
    "torch.manual_seed(seed_val)"
   ]
  },
  {
   "cell_type": "code",
   "execution_count": 13,
   "metadata": {},
   "outputs": [],
   "source": [
    "# LLM Parameter Tuning for NLI\n",
    "params = {    \n",
    "    # Model related arguments\n",
    "    'model_version': 'opt-125m',\n",
    "    'experiment_id': 'run_1',\n",
    "}"
   ]
  },
  {
   "cell_type": "code",
   "execution_count": 14,
   "metadata": {},
   "outputs": [
    {
     "data": {
      "text/html": [
       "Finishing last run (ID:run_1) before initializing another..."
      ],
      "text/plain": [
       "<IPython.core.display.HTML object>"
      ]
     },
     "metadata": {},
     "output_type": "display_data"
    },
    {
     "data": {
      "text/html": [
       "Waiting for W&B process to finish... <strong style=\"color:green\">(success).</strong>"
      ],
      "text/plain": [
       "<IPython.core.display.HTML object>"
      ]
     },
     "metadata": {},
     "output_type": "display_data"
    },
    {
     "data": {
      "text/html": [
       " View run <strong style=\"color:#cdcd00\">run_1</strong> at: <a href='https://wandb.ai/nlp53113/nlg_uncertainty/runs/run_1' target=\"_blank\">https://wandb.ai/nlp53113/nlg_uncertainty/runs/run_1</a><br/>Synced 3 W&B file(s), 0 media file(s), 0 artifact file(s) and 0 other file(s)"
      ],
      "text/plain": [
       "<IPython.core.display.HTML object>"
      ]
     },
     "metadata": {},
     "output_type": "display_data"
    },
    {
     "data": {
      "text/html": [
       "Find logs at: <code>.\\wandb\\run-20230812_234016-run_1\\logs</code>"
      ],
      "text/plain": [
       "<IPython.core.display.HTML object>"
      ]
     },
     "metadata": {},
     "output_type": "display_data"
    },
    {
     "data": {
      "text/html": [
       "Successfully finished last run (ID:run_1). Initializing new run:<br/>"
      ],
      "text/plain": [
       "<IPython.core.display.HTML object>"
      ]
     },
     "metadata": {},
     "output_type": "display_data"
    },
    {
     "data": {
      "application/vnd.jupyter.widget-view+json": {
       "model_id": "f1db7d0083bf49d28f472ea7084f6683",
       "version_major": 2,
       "version_minor": 0
      },
      "text/plain": [
       "VBox(children=(Label(value='Waiting for wandb.init()...\\r'), FloatProgress(value=0.016666666666666666, max=1.0…"
      ]
     },
     "metadata": {},
     "output_type": "display_data"
    },
    {
     "data": {
      "text/html": [
       "wandb version 0.15.8 is available!  To upgrade, please run:\n",
       " $ pip install wandb --upgrade"
      ],
      "text/plain": [
       "<IPython.core.display.HTML object>"
      ]
     },
     "metadata": {},
     "output_type": "display_data"
    },
    {
     "data": {
      "text/html": [
       "Tracking run with wandb version 0.15.7"
      ],
      "text/plain": [
       "<IPython.core.display.HTML object>"
      ]
     },
     "metadata": {},
     "output_type": "display_data"
    },
    {
     "data": {
      "text/html": [
       "Run data is saved locally in <code>c:\\Users\\dhair\\Desktop\\Data\\UChicago\\Morningstar\\NLPLearning\\Project\\wandb\\run-20230812_234313-run_1</code>"
      ],
      "text/plain": [
       "<IPython.core.display.HTML object>"
      ]
     },
     "metadata": {},
     "output_type": "display_data"
    },
    {
     "data": {
      "text/html": [
       "Resuming run <strong><a href='https://wandb.ai/nlp53113/nlg_uncertainty/runs/run_1' target=\"_blank\">run_1</a></strong> to <a href='https://wandb.ai/nlp53113/nlg_uncertainty' target=\"_blank\">Weights & Biases</a> (<a href='https://wandb.me/run' target=\"_blank\">docs</a>)<br/>"
      ],
      "text/plain": [
       "<IPython.core.display.HTML object>"
      ]
     },
     "metadata": {},
     "output_type": "display_data"
    },
    {
     "data": {
      "text/html": [
       " View project at <a href='https://wandb.ai/nlp53113/nlg_uncertainty' target=\"_blank\">https://wandb.ai/nlp53113/nlg_uncertainty</a>"
      ],
      "text/plain": [
       "<IPython.core.display.HTML object>"
      ]
     },
     "metadata": {},
     "output_type": "display_data"
    },
    {
     "data": {
      "text/html": [
       " View run at <a href='https://wandb.ai/nlp53113/nlg_uncertainty/runs/run_1' target=\"_blank\">https://wandb.ai/nlp53113/nlg_uncertainty/runs/run_1</a>"
      ],
      "text/plain": [
       "<IPython.core.display.HTML object>"
      ]
     },
     "metadata": {},
     "output_type": "display_data"
    }
   ],
   "source": [
    "import wandb\n",
    "\n",
    "# We are using wandb to track our experiments\n",
    "wandb.init(project='nlg_uncertainty', id=params['experiment_id'], config=params, resume='allow')\n",
    "\n",
    "run_version = wandb.run.name"
   ]
  },
  {
   "cell_type": "code",
   "execution_count": 7,
   "metadata": {},
   "outputs": [],
   "source": [
    "from transformers import AutoTokenizer\n",
    "\n",
    "model = params['model_version']\n",
    "\n",
    "# Tokenizer for the given model\n",
    "# Since we will be using the same tokenizer for other notebooks, we will save it in the cache directory\n",
    "generation_tokenizer = AutoTokenizer.from_pretrained(f\"facebook/{model}\", use_fast=False, cache_dir='./hf_cache_dir')\n",
    "tokenizer = AutoTokenizer.from_pretrained(f\"facebook/{model}\", use_fast=False, cache_dir='./hf_cache_dir')"
   ]
  },
  {
   "cell_type": "code",
   "execution_count": 15,
   "metadata": {},
   "outputs": [],
   "source": [
    "import pickle\n",
    "\n",
    "# Please generate the responses using the generation notebook first\n",
    "# Load the responses for the given run and model version\n",
    "with open(f'./sequences/{run_version}/{model}_generations.pkl', 'rb') as infile:\n",
    "    responses = pickle.load(infile)"
   ]
  },
  {
   "cell_type": "code",
   "execution_count": 16,
   "metadata": {},
   "outputs": [
    {
     "name": "stderr",
     "output_type": "stream",
     "text": [
      "100%|██████████| 7184/7184 [00:12<00:00, 561.37it/s]\n"
     ]
    }
   ],
   "source": [
    "from tqdm import tqdm\n",
    "\n",
    "cleaned_responses_list = []\n",
    "\n",
    "# Iterating through the responses for the given model\n",
    "for sample in tqdm(responses):\n",
    "    \n",
    "    # Initializing a tensor with the same shape as 'generations' filled with ones\n",
    "    cleaned_generations_tensor = torch.ones_like(sample['generations'])\n",
    "    question_text = sample['question']\n",
    "    generated_texts_list = sample['generated_texts']\n",
    "    cleaned_generated_texts_list = []\n",
    "\n",
    "    max_len_of_generations = cleaned_generations_tensor.shape[-1]\n",
    "\n",
    "    # Strings to filter out from the generated texts\n",
    "    strings_to_filter_on = [\n",
    "        '.', '\\n', 'Q:', 'A:', 'question:', 'answer:', 'Question:', 'Answer:', 'Questions:', 'questions:', 'QUESTION:',\n",
    "        'ANSWER:'\n",
    "    ]\n",
    "    \n",
    "    # Iterating through the generated texts\n",
    "    for i, generated_text in enumerate(generated_texts_list):\n",
    "        # Filtering out unwanted strings\n",
    "        for string in strings_to_filter_on:\n",
    "            if string in generated_text:\n",
    "                generated_text = generated_text.split(string)[0]\n",
    "        cleaned_generated_texts_list.append(generated_text)\n",
    "\n",
    "        # Concatenating the prompt with the cleaned generated text\n",
    "        clean_ids = torch.cat(\n",
    "            [sample['prompt'].to(device),\n",
    "             torch.tensor(tokenizer(generated_text)['input_ids'][1:], device=device)]\n",
    "        )\n",
    "        cleaned_generations_tensor[i, :min(len(clean_ids), max_len_of_generations)] = clean_ids[:max_len_of_generations]\n",
    "\n",
    "\n",
    "    # Updating the sample with cleaned texts and generations\n",
    "    sample['cleaned_generated_texts'] = cleaned_generated_texts_list\n",
    "    sample['cleaned_generations'] = cleaned_generations_tensor\n",
    "\n",
    "    # Appending the cleaned sample to the list\n",
    "    cleaned_responses_list.append(sample)"
   ]
  },
  {
   "cell_type": "code",
   "execution_count": 12,
   "metadata": {},
   "outputs": [],
   "source": [
    "with open(f'./sequences/{run_version}/{model}_cleaned_generations.pkl', 'wb') as outfile:\n",
    "    pickle.dump(cleaned_responses_list, outfile)"
   ]
  }
 ],
 "metadata": {
  "kernelspec": {
   "display_name": "Python 3",
   "language": "python",
   "name": "python3"
  },
  "language_info": {
   "codemirror_mode": {
    "name": "ipython",
    "version": 3
   },
   "file_extension": ".py",
   "mimetype": "text/x-python",
   "name": "python",
   "nbconvert_exporter": "python",
   "pygments_lexer": "ipython3",
   "version": "3.11.1"
  },
  "orig_nbformat": 4
 },
 "nbformat": 4,
 "nbformat_minor": 2
}
